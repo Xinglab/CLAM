{
 "cells": [
  {
   "cell_type": "markdown",
   "metadata": {},
   "source": [
    "# CLIP-seq Analysis of Multi-mapped reads"
   ]
  },
  {
   "cell_type": "markdown",
   "metadata": {},
   "source": [
    "<a id='section0'></a>\n",
    "## Table of Content\n",
    "1. [Introduction](#section1)\n",
    "2. [Installation](#section2)\n",
    "3. [Input](#section3)\n",
    "4. [Usage](#section4)<br>\n",
    "    4.1 [preprocessor](#section4_1)<br>\n",
    "    4.2 [realigner](#section4_2)<br>\n",
    "    4.3 [peakcaller](#section4_3)<br>\n",
    "    4.4 [permutation_callpeak](#section4_4)<br>\n",
    "    4.5 [peak_annotator](#section4_5)<br>\n",
    "5. [Output](#section5)\n",
    "6. [An example](#section6)<br>\n",
    "    6.1 [Sample dataset](#section6_1)<br>\n",
    "    6.2 [Preprossing of sample dataset](#section6_2)<br>\n",
    "    6.3 [Read mapping](#section6_3)<br>\n",
    "    6.4 [Cleaning](#section6_4)<br>\n",
    "    6.5 [CLAM pre-processing](#section6_5)<br>\n",
    "    6.6 [Realign](#section6_6)<br>\n",
    "    6.7 [Peak calling](#section6_7)<br>\n",
    "    6.8 [Annotate](#section6_8)"
   ]
  },
  {
   "cell_type": "markdown",
   "metadata": {},
   "source": [
    "<a id='section1'></a>\n",
    "## Introduction\n",
    "CLAM is a general toolkit for re-aligning multi-mapped reads in CLIP/RIP-seq data and calling peaks.\n",
    "For details, please read our [NAR paper](https://academic.oup.com/nar/article/45/16/9260/4077049).\n",
    "Recently, we updated CLAM to version v1.2.0 with new features:\n",
    "1. Implemented new strandness tagging for anti-sense reads.\n",
    "2. Multi-replicate mode for peak calling and benchmarking.\n",
    "3. Annotating peaks to genomic region annotations.\n",
    "4. Install through pypi."
   ]
  },
  {
   "cell_type": "markdown",
   "metadata": {},
   "source": [
    "[TOC](#section0)"
   ]
  },
  {
   "cell_type": "markdown",
   "metadata": {},
   "source": [
    "<a id='section2'></a>\n",
    "## Installation\n",
    "CLAM v1.2 works under Python 2/3. Please click and download the latest version from the releases. Once unzip the file, type"
   ]
  },
  {
   "cell_type": "raw",
   "metadata": {},
   "source": [
    "$ python setup.py install"
   ]
  },
  {
   "cell_type": "markdown",
   "metadata": {},
   "source": [
    "in your terminal and this will automatically install CLAM in your currently working python.\n",
    "\n",
    "You should have already installed \"pysam\" using pip/conda for your python interpreter. If not, you can check the detailed requirements in the file \"requirements.txt\", or type"
   ]
  },
  {
   "cell_type": "raw",
   "metadata": {},
   "source": [
    "$ pip install -r requirements.txt"
   ]
  },
  {
   "cell_type": "markdown",
   "metadata": {},
   "source": [
    "to install those requirements manually."
   ]
  },
  {
   "cell_type": "markdown",
   "metadata": {},
   "source": [
    "Or, a simpler way to install CLAM is through Pypi:"
   ]
  },
  {
   "cell_type": "raw",
   "metadata": {},
   "source": [
    "$ pip install --index-url https://test.pypi.org/simple/ --no-deps CLAM"
   ]
  },
  {
   "cell_type": "markdown",
   "metadata": {},
   "source": [
    "[TOC](#section0)"
   ]
  },
  {
   "cell_type": "markdown",
   "metadata": {},
   "source": [
    "<a id='section3'></a>\n",
    "## Input\n",
    "The input for CLAM is a sorted or unsorted BAM file of CLIP-seq alignment and a gene annotation file in GTF format.<br>\n",
    "In the case of RIP-seq or eCLIP, a BAM file for IP experiment and a BAM file for Control/input experiment are taken together as input.<br><br>\n",
    "Note: As in the released version v1.1, the read_gtf function had a bug and required the Gencode format GTF (i.e. last column of GTF matches gene_id \"(xx)\" ) to proceed the peak calling. This bug has been fixed in the github repository and has been fixed in later releases/patches.\n",
    "\n"
   ]
  },
  {
   "cell_type": "markdown",
   "metadata": {},
   "source": [
    "[TOC](#section0)"
   ]
  },
  {
   "cell_type": "markdown",
   "metadata": {},
   "source": [
    "<a id='section4'></a>\n",
    "## Usage\n",
    "CLAM is run through issueing subcommands. Currently there are four subcommands available: preprocessor, realigner, peakcaller and permutation_callpeak.\n"
   ]
  },
  {
   "cell_type": "raw",
   "metadata": {},
   "source": [
    "usage: CLAM [-h] [--version]\n",
    "            {preprocessor,realigner,peakcaller,permutation_callpeak,peak_annotator,data_downloader}\n",
    "            ...\n",
    "\n",
    "CLAM -- CLip-seq Analysis of Multi-mapped reads\n",
    "\n",
    "positional arguments:\n",
    "  {preprocessor,realigner,peakcaller,permutation_callpeak,peak_annotator,data_downloader}\n",
    "    preprocessor        CLAM Preprocessor: tag read alignments to specific\n",
    "                        locus\n",
    "    realigner           CLAM Realigner: realign multi-mapped reads using\n",
    "                        expectation-maximization\n",
    "    peakcaller          CLAM Peakcaller: negative binomial model-based peak\n",
    "                        calling combining unique- and multi-reads\n",
    "    permutation_callpeak\n",
    "                        CLAM permutation peakcaller: call peaks using\n",
    "                        permutation (as in v1.0.0)\n",
    "    peak_annotator      CLAM peak annotator: assign peaks to genomic regions\n",
    "    data_downloader     CLAM data downloader: download data of genomic regions\n",
    "\n",
    "optional arguments:\n",
    "  -h, --help            show this help message and exit\n",
    "  --version             show program's version number and exit\n",
    "\n",
    "For command line options of each sub-command, type: CLAM COMMAND -h"
   ]
  },
  {
   "cell_type": "markdown",
   "metadata": {},
   "source": [
    "[TOC](#section0)"
   ]
  },
  {
   "cell_type": "markdown",
   "metadata": {},
   "source": [
    "<a id='section4_1'></a>\n",
    "### CLAM preprocessor\n",
    "This subcommand (new since v1.1) will prepare the input files for CLAM pipeline. It looks for reads passing QC, splits the input bam file by sorting them into `unique.sorted.bam` and `multi.sorted.bam`, and adding an additional tag \"RT\" (short for Read Tag) to each alignment based which read tagger function the user supplied.\n",
    "\n",
    "Note that you can also run `CLAM realigner` directly, which will call `preprocessor` and automatically determine if `preprocessor` has been called in the output folder.\n",
    "\n",
    "If you don't want to run `realigner`, you can also run peakcaller directly after preprocessor.\n",
    "\n",
    "Example run:"
   ]
  },
  {
   "cell_type": "raw",
   "metadata": {},
   "source": [
    "$ CLAM preprocessor -i path/to/input/Aligned.out.bam -o path/to/clam/outdir/ --read-tagger-method median"
   ]
  },
  {
   "cell_type": "markdown",
   "metadata": {},
   "source": [
    "<a id='section4_2'></a>\n",
    "### CLAM realigner\n",
    "This subcommand will run expectation-maxmization to assign the multi-mapped reads in a probablistic framework. \n",
    "More details about the EM model is described in our NAR paper.\n",
    "\n",
    "Note when `--retag` is specified, `realigner` will re-run `preprocessor` regardless; otherwise, it will use \n",
    "the prepared files in `outdir` if available.\n",
    "\n",
    "Example run:"
   ]
  },
  {
   "cell_type": "raw",
   "metadata": {},
   "source": [
    "$ CLAM realigner -i path/to/input/Aligned.out.bam -o path/to/clam/outdir/ --read-tagger-method start --retag"
   ]
  },
  {
   "cell_type": "markdown",
   "metadata": {},
   "source": [
    "[TOC](#section0)"
   ]
  },
  {
   "cell_type": "markdown",
   "metadata": {},
   "source": [
    "<a id='section4_3'></a>\n",
    "### CLAM peakcaller\n",
    "This subcommand (new since v1.1) will call peaks by looking for bins enriched with IP reads over control, specifying a \n",
    "Negative-binomial model on observed read counts.\n",
    "\n",
    "Note we can specify both `unique.sorted.bam` (from `preprocessor`) and `realigned.sorted.bam` (from `realigner`) and \n",
    "separte the two file paths by a space, to call peaks using the combination of uniquely- and multi-mapped reads.\n",
    "\n",
    "Alternatively, we can also only input `unique.sorted.bam`; this will allow CLAM to call peaks using only uniquely-\n",
    "mapped reads.\n",
    "\n",
    "As a new feature in version 1.2.0, we implemented multi-replicate mode for peakcaller. Simply use comma to seperate bam files of replicates (Here, we assume there are two replicates named rep1 and rep2).\n",
    "\n",
    "Example run:"
   ]
  },
  {
   "cell_type": "raw",
   "metadata": {},
   "source": [
    "$ CLAM peakcaller -i path/to/IP/rep1/unique.sorted.bam,path/to/IP/rep2/unique.sorted.bam \\\n",
    "path/to/IP/rep1/realigned.sorted.bam,path/to/IP/rep2/realigned.sorted.bam \\\n",
    "-c path/to/CTRL/unique.sorted.bam path/to/CTRL/realigned.sorted.bam \\\n",
    "-o path/to/peaks/outdir --unstranded --binsize 100 \\\n",
    "--gtf path/to/gencode.v19.annotation.gtf"
   ]
  },
  {
   "cell_type": "markdown",
   "metadata": {},
   "source": [
    "<a id='section4_4'></a>\n",
    "### CLAM permutation_callpeak\n",
    "This subcommand will call peaks using permutation by randomly placing reads along the gene.\n",
    "More details about the permutation procedure is described in our NAR paper.\n",
    "\n",
    "Example run:"
   ]
  },
  {
   "cell_type": "raw",
   "metadata": {},
   "source": [
    "$ CLAM permutation_callpeak -i path/to/outdir/unique.sorted.bam path/to/outdir/realigned.sorted.bam \\\n",
    "-o path/to/peaks/outdir -p 8 \\\n",
    "--gtf path/to/gencode.v19.annotation.gtf"
   ]
  },
  {
   "cell_type": "markdown",
   "metadata": {},
   "source": [
    "[TOC](#section0)"
   ]
  },
  {
   "cell_type": "markdown",
   "metadata": {},
   "source": [
    "<a id='section4_5'></a>\n",
    "### CLAM peak_annotator\n",
    "This sumcommand will annotate peaks to genomic regions. It requires genomic region files to exist. If not, `peak_annotator` will call `data_downloader` automatically. Currently, we support annotation of human(version hg19 and hg38) and mouse(version mm10)\n",
    "\n",
    "Example run:"
   ]
  },
  {
   "cell_type": "raw",
   "metadata": {},
   "source": [
    "$ CLAM peak_annotator path/to/peak/file/narrow_peak.unique.bed hg19 path/to/output/annotate.txt"
   ]
  },
  {
   "cell_type": "markdown",
   "metadata": {},
   "source": [
    "[TOC](#section0)"
   ]
  },
  {
   "cell_type": "markdown",
   "metadata": {},
   "source": [
    "<a id='section4_5'></a>\n",
    "### CLAM data_downloader\n",
    "This sumcommand will download prepared genomic annotation files to local system. Usually, it was called by `peak_annotator` automatically. You can also run it manually.\n",
    "\n",
    "Example run:"
   ]
  },
  {
   "cell_type": "raw",
   "metadata": {},
   "source": [
    "$ CLAM data_downloader hg19"
   ]
  },
  {
   "cell_type": "markdown",
   "metadata": {},
   "source": [
    "[TOC](#section0)"
   ]
  },
  {
   "cell_type": "markdown",
   "metadata": {},
   "source": [
    "<a id='section5'></a>\n",
    "## Output"
   ]
  },
  {
   "cell_type": "markdown",
   "metadata": {},
   "source": [
    "The output of the re-aligner is \"realigned.sorted.bam\" (previously \"assigned_multimapped_reads.bam\" in v1.0), \n",
    "which is a customized BAM file following SAM format. \n",
    "Note that the re-aligned weights are stored in \"AS:\" tag, so please be aware and do not change/omit it.\n",
    "Output of re-aligner could also be seen as an intermediate file for CLAM pipeline.\n",
    "\n",
    "The output of the peak-caller is a bed file following NarrowPeak format. It is a 10-column [BED](https://genome.ucsc.edu/FAQ/FAQformat.html#format1) format file. \n",
    "\n",
    "If you run permutation peak caller (as in v1.0), there will be only one output file called \"narrow_peak.permutation.bed\".\n",
    "Hence a peak with \"combined\" but no \"unique\" on the fifth column indicates this is a rescued peak; both \"unique\" and \n",
    "\"combined\" as common peak; or lost peak otherwise.\n",
    "\n",
    "If you run model-based peak caller (since v1.1), depending on the specified paramter (whether you turned on `--unique-only`), \n",
    "the output will be either \"narrow_peak.unique.bed\" for peaks called using only uniquely-mapped reads; or \n",
    "\"narrow_peak.combined.bed\" for peaks called when adding realigned multi-mapped reads."
   ]
  },
  {
   "cell_type": "markdown",
   "metadata": {},
   "source": [
    "[TOC](#section0)"
   ]
  },
  {
   "cell_type": "markdown",
   "metadata": {},
   "source": [
    "<a id='section6'></a>\n",
    "## An example"
   ]
  },
  {
   "cell_type": "markdown",
   "metadata": {},
   "source": [
    "<a id='section6_1'></a>\n",
    "### Sample dataset"
   ]
  },
  {
   "cell_type": "markdown",
   "metadata": {},
   "source": [
    "A typical application of CLAM is to call peaks with CLIP-seq data. Here, we take an eCLIP seq dataset as an example. (A full Snakemake pipeline for analysing eCLIP data can be found [here](https://github.com/zj-zhang/CLAM_ENCODE_Snakemake).)"
   ]
  },
  {
   "cell_type": "markdown",
   "metadata": {},
   "source": [
    "In this demo, we focused on RBFOX2 eCLIP data from K562 cell line provided by Van <em>et. al.</em> "
   ]
  },
  {
   "cell_type": "raw",
   "metadata": {},
   "source": [
    "Van Nostrand, E. L., G. A. Pratt, A. A. Shishkin, C. Gelboin-Burkhart, M. Y. Fang, B. Sundararaman, S. M. Blue, T. B. Nguyen, C. Surka, K. Elkins, R. Stanton, F. Rigo, M. Guttman and G. W. Yeo (2016). \"Robust transcriptome-wide discovery of RNA-binding protein binding sites with enhanced CLIP (eCLIP).\" Nat Methods 13(6): 508-514."
   ]
  },
  {
   "cell_type": "markdown",
   "metadata": {},
   "source": [
    "First, download raw data from ENCODE："
   ]
  },
  {
   "cell_type": "raw",
   "metadata": {},
   "source": [
    "wget https://www.encodeproject.org/files/ENCFF495WQA/@@download/ENCFF495WQA.fastq.gz\n",
    "wget https://www.encodeproject.org/files/ENCFF492QZU/@@download/ENCFF492QZU.fastq.gz\n",
    "wget https://www.encodeproject.org/files/ENCFF930TLO/@@download/ENCFF930TLO.fastq.gz\n",
    "wget https://www.encodeproject.org/files/ENCFF462CMF/@@download/ENCFF462CMF.fastq.gz\n",
    "wget https://www.encodeproject.org/files/ENCFF163QEA/@@download/ENCFF163QEA.fastq.gz\n",
    "wget https://www.encodeproject.org/files/ENCFF942TPA/@@download/ENCFF942TPA.fastq.gz"
   ]
  },
  {
   "cell_type": "markdown",
   "metadata": {},
   "source": [
    "A detaild list for each file:"
   ]
  },
  {
   "attachments": {},
   "cell_type": "markdown",
   "metadata": {},
   "source": [
    "<body link=\"#0563C1\" vlink=\"#954F72\">\n",
    "\n",
    "<table border=\"0\" cellpadding=\"0\" cellspacing=\"0\" width=\"664\" style=\"border-collapse:\n",
    " collapse;table-layout:fixed;width:499pt\">\n",
    " <colgroup><col class=\"xl66\" width=\"99\" style=\"mso-width-source:userset;mso-width-alt:3444;\n",
    " width:74pt\">\n",
    " <col width=\"64\" span=\"2\" style=\"width:48pt\">\n",
    " <col width=\"130\" style=\"mso-width-source:userset;mso-width-alt:4538;width:98pt\">\n",
    " <col width=\"64\" style=\"width:48pt\">\n",
    " <col width=\"109\" style=\"mso-width-source:userset;mso-width-alt:3816;width:82pt\">\n",
    " <col width=\"134\" style=\"mso-width-source:userset;mso-width-alt:4677;width:101pt\">\n",
    " </colgroup><tbody><tr height=\"19\" style=\"height:14.5pt\">\n",
    "  <td height=\"19\" class=\"xl66\" width=\"99\" style=\"height:14.5pt;width:74pt\">File Name</td>\n",
    "  <td class=\"xl65\" width=\"64\" style=\"width:48pt\">Cell Line</td>\n",
    "  <td class=\"xl65\" width=\"64\" style=\"width:48pt\">Bait</td>\n",
    "  <td class=\"xl65\" width=\"130\" style=\"width:98pt\">Group</td>\n",
    "  <td class=\"xl65\" width=\"64\" style=\"width:48pt\">Run type</td>\n",
    "  <td class=\"xl65\" width=\"109\" style=\"width:82pt\">Encode Accession</td>\n",
    "  <td class=\"xl65\" width=\"134\" style=\"width:101pt\">Platform</td>\n",
    " </tr>\n",
    " <tr height=\"19\" style=\"height:14.5pt\">\n",
    "  <td height=\"19\" class=\"xl66\" style=\"height:14.5pt\">ENCFF495WQA</td>\n",
    "  <td class=\"xl65\">K562</td>\n",
    "  <td class=\"xl65\">RBFOX2</td>\n",
    "  <td class=\"xl65\">Control-Read 1</td>\n",
    "  <td class=\"xl65\">PE55nt</td>\n",
    "  <td class=\"xl65\">ENCSR051IXX</td>\n",
    "  <td class=\"xl65\">Illumina HiSeq 4000</td>\n",
    " </tr>\n",
    " <tr height=\"19\" style=\"height:14.5pt\">\n",
    "  <td height=\"19\" class=\"xl66\" style=\"height:14.5pt\">ENCFF492QZU</td>\n",
    "  <td class=\"xl65\">K562</td>\n",
    "  <td class=\"xl65\">RBFOX2</td>\n",
    "  <td class=\"xl65\">Control-Read 2</td>\n",
    "  <td class=\"xl65\">PE46nt</td>\n",
    "  <td class=\"xl65\">ENCSR051IXX</td>\n",
    "  <td class=\"xl65\">Illumina HiSeq 4000</td>\n",
    " </tr>\n",
    " <tr height=\"19\" style=\"height:14.5pt\">\n",
    "  <td height=\"19\" class=\"xl66\" style=\"height:14.5pt\">ENCFF930TLO</td>\n",
    "  <td class=\"xl65\">K562</td>\n",
    "  <td class=\"xl65\">RBFOX2</td>\n",
    "  <td class=\"xl65\">Replicate 1-Read 1</td>\n",
    "  <td class=\"xl65\">PE45nt</td>\n",
    "  <td class=\"xl65\">ENCSR756CKJ</td>\n",
    "  <td class=\"xl65\">Illumina HiSeq 4000</td>\n",
    " </tr>\n",
    " <tr height=\"19\" style=\"height:14.5pt\">\n",
    "  <td height=\"19\" class=\"xl66\" style=\"height:14.5pt\">ENCFF462CMF</td>\n",
    "  <td class=\"xl65\">K562</td>\n",
    "  <td class=\"xl65\">RBFOX2</td>\n",
    "  <td class=\"xl65\">Replicate 1-Read 2</td>\n",
    "  <td class=\"xl65\">PE46nt</td>\n",
    "  <td class=\"xl65\">ENCSR756CKJ</td>\n",
    "  <td class=\"xl65\">Illumina HiSeq 4000</td>\n",
    " </tr>\n",
    " <tr height=\"19\" style=\"height:14.5pt\">\n",
    "  <td height=\"19\" class=\"xl66\" style=\"height:14.5pt\">ENCFF163QEA</td>\n",
    "  <td class=\"xl65\">K562</td>\n",
    "  <td class=\"xl65\">RBFOX2</td>\n",
    "  <td class=\"xl65\">Replicate 2-Read 1</td>\n",
    "  <td class=\"xl65\">PE45nt</td>\n",
    "  <td class=\"xl65\">ENCSR756CKJ</td>\n",
    "  <td class=\"xl65\">Illumina HiSeq 4000</td>\n",
    " </tr>\n",
    " <tr height=\"19\" style=\"height:14.5pt\">\n",
    "  <td height=\"19\" class=\"xl66\" style=\"height:14.5pt\">ENCFF942TPA</td>\n",
    "  <td class=\"xl65\">K562</td>\n",
    "  <td class=\"xl65\">RBFOX2</td>\n",
    "  <td class=\"xl65\">Replicate 2-Read 2</td>\n",
    "  <td class=\"xl65\">PE46nt</td>\n",
    "  <td class=\"xl65\">ENCSR756CKJ</td>\n",
    "  <td class=\"xl65\">Illumina HiSeq 4000</td>\n",
    " </tr>\n",
    " <!--[if supportMisalignedColumns]-->\n",
    " <tr height=\"0\" style=\"display:none\">\n",
    "  <td width=\"99\" style=\"width:74pt\"></td>\n",
    "  <td width=\"64\" style=\"width:48pt\"></td>\n",
    "  <td width=\"64\" style=\"width:48pt\"></td>\n",
    "  <td width=\"130\" style=\"width:98pt\"></td>\n",
    "  <td width=\"64\" style=\"width:48pt\"></td>\n",
    "  <td width=\"109\" style=\"width:82pt\"></td>\n",
    "  <td width=\"134\" style=\"width:101pt\"></td>\n",
    " </tr>\n",
    " <!--[endif]-->\n",
    "</tbody></table>\n",
    "\n",
    "\n",
    "\n",
    "\n",
    "</body>"
   ]
  },
  {
   "cell_type": "markdown",
   "metadata": {},
   "source": [
    "[TOC](#section0)"
   ]
  },
  {
   "cell_type": "markdown",
   "metadata": {},
   "source": [
    "<a id='section6_2'></a>\n",
    "### Preprossing of sample dataset"
   ]
  },
  {
   "cell_type": "markdown",
   "metadata": {},
   "source": [
    "When all raw reads were downloaded, use catadaptor to remove adaptor sequences. Before this, let's unzip all files and rename them:"
   ]
  },
  {
   "cell_type": "raw",
   "metadata": {},
   "source": [
    "$ ll | grep fastq | awk '{print $9}' | xargs gzip -d\n",
    "$ mv ENCFF495WQA.fastq K562_RBFOX2_Inp_R1.fastq\n",
    "$ mv ENCFF492QZU.fastq K562_RBFOX2_Inp_R2.fastq\n",
    "$ mv ENCFF930TLO.fastq K562_RBFOX2_rep1_IP_R1.fastq\n",
    "$ mv ENCFF462CMF.fastq K562_RBFOX2_rep1_IP_R2.fastq\n",
    "$ mv ENCFF163QEA.fastq K562_RBFOX2_rep2_IP_R1.fastq\n",
    "$ mv ENCFF942TPA.fastq K562_RBFOX2_rep2_IP_R2.fastq"
   ]
  },
  {
   "cell_type": "markdown",
   "metadata": {},
   "source": [
    "To remove adaptors, each paired-end reads should go through 2 rounds of processing. Take control as an example:"
   ]
  },
  {
   "cell_type": "raw",
   "metadata": {},
   "source": [
    "$ cutadapt -f fastq --match-read-wildcards --times 1 -e 0.1 -O 1 --quality-cutoff 6 -m 18 \\\n",
    "-a NNNNNAGATCGGAAGAGCACACGTCTGAACTCCAGTCAC -g CTTCCGATCTACAAGTT -g CTTCCGATCTTGGTCCT \\\n",
    "-A AACTTGTAGATCGGA -A AGGACCAAGATCGGA -A ACTTGTAGATCGGAA -A GGACCAAGATCGGAA \\\n",
    "-A CTTGTAGATCGGAAG -A GACCAAGATCGGAAG -A TTGTAGATCGGAAGA -A ACCAAGATCGGAAGA \\\n",
    "-A TGTAGATCGGAAGAG -A CCAAGATCGGAAGAG -A GTAGATCGGAAGAGC -A CAAGATCGGAAGAGC \\\n",
    "-A TAGATCGGAAGAGCG -A AAGATCGGAAGAGCG -A AGATCGGAAGAGCGT -A GATCGGAAGAGCGTC \\\n",
    "-A ATCGGAAGAGCGTCG -A TCGGAAGAGCGTCGT -A CGGAAGAGCGTCGTG -A GGAAGAGCGTCGTGT \\\n",
    "-o K562_RBFOX2_Inp_R1.adapterTrim.fastq -p K562_RBFOX2_Inp_R2.adapterTrim.fastq \\\n",
    "K562_RBFOX2_Inp_R1.fastq K562_RBFOX2_Inp_R2.fastq"
   ]
  },
  {
   "cell_type": "raw",
   "metadata": {},
   "source": [
    "$ cutadapt -f fastq --match-read-wildcards --times 1 -e 0.1 -O 5 --quality-cutoff 6 -m 18 \\\n",
    "-A AACTTGTAGATCGGA -A AGGACCAAGATCGGA \\\n",
    "-A ACTTGTAGATCGGAA -A GGACCAAGATCGGAA -A CTTGTAGATCGGAAG -A GACCAAGATCGGAAG \\\n",
    "-A TTGTAGATCGGAAGA -A ACCAAGATCGGAAGA -A TGTAGATCGGAAGAG \\\n",
    "-A CCAAGATCGGAAGAG -A GTAGATCGGAAGAGC -A CAAGATCGGAAGAGC -A TAGATCGGAAGAGCG \\\n",
    "-A AAGATCGGAAGAGCG -A AGATCGGAAGAGCGT -A GATCGGAAGAGCGTC \\\n",
    "-A ATCGGAAGAGCGTCG -A TCGGAAGAGCGTCGT -A CGGAAGAGCGTCGTG -A GGAAGAGCGTCGTGT \\\n",
    "-o K562_RBFOX2_Inp_R1.adapterTrim.round2.fastq -p K562_RBFOX2_Inp_R2.adapterTrim.round2.fastq \\\n",
    "K562_RBFOX2_Inp_R1.adapterTrim.fastq K562_RBFOX2_Inp_R2.adapterTrim.fastq"
   ]
  },
  {
   "cell_type": "markdown",
   "metadata": {},
   "source": [
    "[TOC](#section0)"
   ]
  },
  {
   "cell_type": "markdown",
   "metadata": {},
   "source": [
    "<a id='section6_3'></a>\n",
    "### Read mapping"
   ]
  },
  {
   "cell_type": "markdown",
   "metadata": {},
   "source": [
    "After reads were processed, we will need to map reads to genome. Here, we use STAR to map reads to human genome, version GRCh37.75. For a more comprehensive introduction to STAR, click [here](https://github.com/alexdobin/STAR).<br>\n",
    "Still, we take Control as an example:"
   ]
  },
  {
   "cell_type": "raw",
   "metadata": {},
   "source": [
    "$ STAR --genomeDir /full/path/to/STAR/index/folder \\\n",
    "--readFilesIn K562_RBFOX2_Inp_R1.adapterTrim.round2.fastq K562_RBFOX2_Inp_R2.adapterTrim.round2.fastq \n",
    "--outSAMtype BAM Unsorted \\\n",
    "--outFileNamePrefix ../star/K562_RBFOX2_Inp/ \\\n",
    "--alignEndsProtrude 15 ConcordantPair \\\n",
    "--outFilterMultimapNmax 100 \\\n",
    "--runThreadN 20 \\\n",
    "--outStd Log"
   ]
  },
  {
   "cell_type": "markdown",
   "metadata": {},
   "source": [
    "[TOC](#section0)"
   ]
  },
  {
   "cell_type": "markdown",
   "metadata": {},
   "source": [
    "<a id='section6_3_5'></a>\n",
    "### Cleaning"
   ]
  },
  {
   "cell_type": "markdown",
   "metadata": {},
   "source": [
    "As rRNAs and other repetitive RNA  may cause bias when performing peak calling, we will need to clean the mapped reads.<br> Use [BEDTOOLS](https://bedtools.readthedocs.io/en/latest/) to remove rRNAs (rRNA annotation can be exported from [UCSC Table Browser](http://genome.ucsc.edu/cgi-bin/hgTables))."
   ]
  },
  {
   "cell_type": "raw",
   "metadata": {},
   "source": [
    "$ bedtools intersect -f 0.90 -abam ../star/K562_RBFOX2_Inp/Aligned.out.bam -b /path/to/rRNA/annotation.bed -v > ../star/K562_RBFOX2_Inp/Aligned.out.mask_rRNA.bam"
   ]
  },
  {
   "cell_type": "raw",
   "metadata": {},
   "source": [
    "$ bedtools intersect -f 0.90 -abam ../star/K562_RBFOX2_rep1_IP/Aligned.out.bam -b /path/to/rRNA/annotation.bed -v > ../star/K562_RBFOX2_rep1_IP/Aligned.out.mask_rRNA.bam"
   ]
  },
  {
   "cell_type": "raw",
   "metadata": {},
   "source": [
    "$ bedtools intersect -f 0.90 -abam ../star/K562_RBFOX2_rep2_IP/Aligned.out.bam -b /path/to/rRNA/annotation.bed -v > ../star/K562_RBFOX2_rep2_IP/Aligned.out.mask_rRNA.bam"
   ]
  },
  {
   "cell_type": "markdown",
   "metadata": {},
   "source": [
    "In CLIP data analysis, its important to remove PCR duplicates. Here we used our in-house code to remove PCR duplicates (The code can be found [here](https://raw.githubusercontent.com/zj-zhang/CLAM_ENCODE_Snakemake/master/scripts/collapse_pcr/collapse_duplicates.py))"
   ]
  },
  {
   "cell_type": "raw",
   "metadata": {},
   "source": [
    "$ python2 collapse_duplicates.py -b star/K562_RBFOX2_Inp/Aligned.out.mask_rRNA.bam -o star/K562_RBFOX2_Inp/Aligned.out.mask_rRNA.dup_removed.bam -m star/K562_RBFOX2_Inp/dup_removal.metrics.txt"
   ]
  },
  {
   "cell_type": "raw",
   "metadata": {},
   "source": [
    "$ python2 collapse_duplicates.py -b star/K562_RBFOX2_rep1_IP/Aligned.out.mask_rRNA.bam -o star/K562_RBFOX2_rep1_IP/Aligned.out.mask_rRNA.dup_removed.bam -m star/K562_RBFOX2_rep1_IP/dup_removal.metrics.txt"
   ]
  },
  {
   "cell_type": "raw",
   "metadata": {},
   "source": [
    "$ python2 collapse_duplicates.py -b star/K562_RBFOX2_rep2_IP/Aligned.out.mask_rRNA.bam -o star/K562_RBFOX2_rep2_IP/Aligned.out.mask_rRNA.dup_removed.bam -m star/K562_RBFOX2_rep2_IP/dup_removal.metrics.txt"
   ]
  },
  {
   "cell_type": "markdown",
   "metadata": {},
   "source": [
    "[TOC](#section0)"
   ]
  },
  {
   "cell_type": "markdown",
   "metadata": {},
   "source": [
    "<a id='section6_5'></a>\n",
    "### CLAM preprocessing"
   ]
  },
  {
   "cell_type": "markdown",
   "metadata": {},
   "source": [
    "As one of the major feature of CLAM, multi-mapped reads were rescued by an EM procedure while peak calling (See our [paper](https://academic.oup.com/nar/article/45/16/9260/4077049) for more detail). Before peak calling, CLAM will seperate multi-mapped reads and uniquely mapped reads. This process can be omiited, if so, CLAM will still call the preprocessing module if it cannot find seperated BAM files."
   ]
  },
  {
   "cell_type": "markdown",
   "metadata": {},
   "source": [
    "$ CLAM preprocessor -i star/K562_RBFOX2_Inp/Aligned.out.mask_rRNA.dup_removed.bam -o clam/K562_RBFOX2_Inp --read-tagger-method start"
   ]
  },
  {
   "cell_type": "raw",
   "metadata": {},
   "source": [
    "$ CLAM preprocessor -i star/K562_RBFOX2_rep1_IP/Aligned.out.mask_rRNA.dup_removed.bam -o clam/K562_RBFOX2_rep1_IP --read-tagger-method start"
   ]
  },
  {
   "cell_type": "raw",
   "metadata": {},
   "source": [
    "$ CLAM preprocessor -i star/K562_RBFOX2_rep2_IP/Aligned.out.mask_rRNA.dup_removed.bam -o clam/K562_RBFOX2_rep2_IP --read-tagger-method start"
   ]
  },
  {
   "cell_type": "markdown",
   "metadata": {},
   "source": [
    "[TOC](#section0)"
   ]
  },
  {
   "cell_type": "markdown",
   "metadata": {},
   "source": [
    "<a id='section6_6'></a>\n",
    "### Realign"
   ]
  },
  {
   "cell_type": "markdown",
   "metadata": {},
   "source": [
    "This step will realign multi-mapped reads to a unique genome location."
   ]
  },
  {
   "cell_type": "raw",
   "metadata": {},
   "source": [
    "$ CLAM realigner -i clam/K562_RBFOX2_Inp/ -o clam/K562_RBFOX2_Inp --winsize 50 --max-tags -1 --read-tagger-method start"
   ]
  },
  {
   "cell_type": "raw",
   "metadata": {},
   "source": [
    "$ CLAM realigner -i clam/K562_RBFOX2_rep1_IP/ -o clam/K562_RBFOX2_rep1_IP --winsize 50 --max-tags -1 --read-tagger-method start"
   ]
  },
  {
   "cell_type": "raw",
   "metadata": {},
   "source": [
    "$ CLAM realigner -i clam/K562_RBFOX2_rep2_IP/ -o clam/K562_RBFOX2_rep2_IP --winsize 50 --max-tags -1 --read-tagger-method start"
   ]
  },
  {
   "cell_type": "markdown",
   "metadata": {},
   "source": [
    "[TOC](#section0)"
   ]
  },
  {
   "cell_type": "markdown",
   "metadata": {},
   "source": [
    "<a id='section6_7'></a>\n",
    "### Peak calling"
   ]
  },
  {
   "cell_type": "markdown",
   "metadata": {},
   "source": [
    "This step will call peaks in multi-replicate mode of CLAM."
   ]
  },
  {
   "cell_type": "raw",
   "metadata": {},
   "source": [
    "$ CLAM peakcaller -i clam/K562_RBFOX2_rep1_IP/unique.sorted.bam,clam/K562_RBFOX2_rep2_IP/unique.sorted.bam \\\n",
    "clam/K562_RBFOX2_rep1_IP/realigned.sorted.bam,clam/K562_RBFOX2_rep2_IP/realigned.sorted.bam \\\n",
    "-c clam/K562_RBFOX2_Inp/unique.sorted.bam clam/K562_RBFOX2_Inp/realigned.sorted.bam \\\n",
    "-o clam/peaks --unstranded --binsize 100 \\\n",
    "--gtf path/to/gencode.v19.annotation.gtf"
   ]
  },
  {
   "cell_type": "markdown",
   "metadata": {},
   "source": [
    "[TOC](#section0)"
   ]
  },
  {
   "cell_type": "markdown",
   "metadata": {},
   "source": [
    "<a id='section6_8'></a>\n",
    "### Annotate"
   ]
  },
  {
   "cell_type": "markdown",
   "metadata": {},
   "source": [
    "Once peaks were called, the genome regions of peaks can be annotated by `peak_annotator`. If genomic region annotation file location is not in system environment or CLAM cannot find the files of the specific genome version in dedicated location, it will call data_downloder automatically."
   ]
  },
  {
   "cell_type": "markdown",
   "metadata": {},
   "source": [
    "$ CLAM peak_annotator -i clam/peaks/narrow.peaks.bed -g hg19 -o clam/peaks/annotate.txt"
   ]
  },
  {
   "cell_type": "markdown",
   "metadata": {},
   "source": [
    "The header of result file will is:"
   ]
  },
  {
   "cell_type": "raw",
   "metadata": {},
   "source": [
    "## Annotation peaks to genomic regions all intersected genomic regions are presented.\n",
    "## CLAM version: 1.2.0\n",
    "## Column 1:  Peak chromosome\n",
    "## Column 2:  Peak start\n",
    "## Column 3:  Peak end\n",
    "## Column 4:  Peak name\n",
    "## Column 5:  Peak score\n",
    "## Column 6:  Peak strand\n",
    "## Column 7:  Peak signal value\n",
    "## Column 8:  Peak pValue\n",
    "## Column 9:  Peak qValue\n",
    "## Column 10: Point-source called for this peak\n",
    "## Column 11: Genomic region chromosome\n",
    "## Column 12: Genomic region start\n",
    "## Column 13: Genomic region end\n",
    "## Column 14: Gene ID\n",
    "## Column 15: Quality score\n",
    "## Column 16: Genomic region strand\n",
    "## Column 17: Genomic region type"
   ]
  },
  {
   "cell_type": "markdown",
   "metadata": {},
   "source": [
    "[TOC](#section0)"
   ]
  }
 ],
 "metadata": {
  "kernelspec": {
   "display_name": "Python 3",
   "language": "python",
   "name": "python3"
  },
  "language_info": {
   "codemirror_mode": {
    "name": "ipython",
    "version": 3
   },
   "file_extension": ".py",
   "mimetype": "text/x-python",
   "name": "python",
   "nbconvert_exporter": "python",
   "pygments_lexer": "ipython3",
   "version": "3.6.2"
  }
 },
 "nbformat": 4,
 "nbformat_minor": 2
}
